{
 "cells": [
  {
   "cell_type": "code",
   "execution_count": 309,
   "metadata": {},
   "outputs": [
    {
     "data": {
      "text/plain": [
       "'The 2019-20 coronavirus pandemic is an ongoing pandemic of coronavirus disease 2019 (COVID-19) caused by severe acute respiratory syndrome coronavirus 2 (SARS-CoV-2). The outbreak was identified in Wuhan, China, in December 2019. The World Health Organization declared the outbreak a Public Health Emergency of International Concern on 30 January, and a pandemic on 11 March.As of 1 May 2020, more than 3.25 million cases of COVID-19 have been reported in 187 countries and territories, resulting in more than 233,000 deaths. More than 1.01 million people have recovered.\\n\\nThe virus is primarily spread between people during close contact,often via small droplets produced by coughing,sneezing, or talking.The droplets usually fall to the ground or onto surfaces rather than remaining in the air over long distances. People may also become infected by touching a contaminated surface and then touching their face. On surfaces, the amount of virus declines over time until it is insufficient to remain infectious, but it may be detected for hours or days. It is most contagious during the first three days after the onset of symptoms, although spread may be possible before symptoms appear and in later stages of the disease.\\nCommon symptoms include fever, cough, fatigue, shortness of breath, and loss of smell. Complications may include pneumonia and acute respiratory distress syndrome. The time from exposure to onset of symptoms is typically around five days, but may range from two to fourteen days. There is no known vaccine or specific antiviral treatment.Primary treatment is symptomatic and supportive therapy.'"
      ]
     },
     "execution_count": 309,
     "metadata": {},
     "output_type": "execute_result"
    }
   ],
   "source": [
    "file = open(\"C:/Users/USER/Desktop/doc.txt\", 'rt')\n",
    "text = file.read()\n",
    "file.close()\n",
    "text"
   ]
  },
  {
   "cell_type": "code",
   "execution_count": 310,
   "metadata": {},
   "outputs": [
    {
     "name": "stdout",
     "output_type": "stream",
     "text": [
      "Requirement already satisfied: nltk in c:\\users\\user\\anaconda3\\lib\\site-packages (3.4.5)\n",
      "Requirement already satisfied: six in c:\\users\\user\\anaconda3\\lib\\site-packages (from nltk) (1.12.0)\n",
      "compound: -0.963, neg: 0.094, neu: 0.895, pos: 0.011, neu\n",
      "neu\n"
     ]
    },
    {
     "data": {
      "text/plain": [
       "'The 2019-20 coronavirus pandemic is an ongoing pandemic of coronavirus disease 2019 (COVID-19) caused by severe acute respiratory syndrome coronavirus 2 (SARS-CoV-2). The outbreak was identified in Wuhan, China, in December 2019. The World Health Organization declared the outbreak a Public Health Emergency of International Concern on 30 January, and a pandemic on 11 March.As of 1 May 2020, more than 3.25 million cases of COVID-19 have been reported in 187 countries and territories, resulting in more than 233,000 deaths. More than 1.01 million people have recovered. The virus is primarily spread between people during close contact,often via small droplets produced by coughing,sneezing, or talking.The droplets usually fall to the ground or onto surfaces rather than remaining in the air over long distances. People may also become infected by touching a contaminated surface and then touching their face. On surfaces, the amount of virus declines over time until it is insufficient to remain infectious, but it may be detected for hours or days. It is most contagious during the first three days after the onset of symptoms, although spread may be possible before symptoms appear and in later stages of the disease. Common symptoms include fever, cough, fatigue, shortness of breath, and loss of smell. Complications may include pneumonia and acute respiratory distress syndrome. The time from exposure to onset of symptoms is typically around five days, but may range from two to fourteen days. There is no known vaccine or specific antiviral treatment.Primary treatment is symptomatic and supportive therapy.'"
      ]
     },
     "execution_count": 310,
     "metadata": {},
     "output_type": "execute_result"
    }
   ],
   "source": [
    "!pip install nltk\n",
    "from nltk.sentiment.vader import SentimentIntensityAnalyzer\n",
    "sid = SentimentIntensityAnalyzer()\n",
    "message_text = text\n",
    "scores = sid.polarity_scores(message_text)\n",
    "for key in sorted(scores):    \n",
    "        print('{0}: {1}, '.format(key, scores[key]), end='')\n",
    "scores\n",
    "inverse = [(value, key) for key, value in scores.items()]\n",
    "sound_type=max(inverse)[1]\n",
    "print (sound_type)\n",
    "inverse = [(value, key) for key, value in scores.items()]\n",
    "sound_type=max(inverse)[1]\n",
    "print (sound_type)\n",
    "import re\n",
    "# Removing Square Brackets and Extra Spaces\n",
    "article_text = re.sub(r'\\[[0-9]*\\]', ' ', text)  \n",
    "article_text = re.sub(r'\\s+', ' ', text) \n",
    "\n",
    "# Removing special characters and digits\n",
    "formatted_article_text = re.sub('[^a-zA-Z]', ' ', article_text )  \n",
    "formatted_article_text = re.sub(r'\\s+', ' ',article_text)\n",
    "formatted_article_text"
   ]
  },
  {
   "cell_type": "code",
   "execution_count": 311,
   "metadata": {},
   "outputs": [
    {
     "name": "stdout",
     "output_type": "stream",
     "text": [
      "['The 2019-20 coronavirus pandemic is an ongoing pandemic of coronavirus disease 2019 (COVID-19) caused by severe acute respiratory syndrome coronavirus 2 (SARS-CoV-2).', 'The outbreak was identified in Wuhan, China, in December 2019.', 'The World Health Organization declared the outbreak a Public Health Emergency of International Concern on 30 January, and a pandemic on 11 March.As of 1 May 2020, more than 3.25 million cases of COVID-19 have been reported in 187 countries and territories, resulting in more than 233,000 deaths.', 'More than 1.01 million people have recovered.', 'The virus is primarily spread between people during close contact,often via small droplets produced by coughing,sneezing, or talking.The droplets usually fall to the ground or onto surfaces rather than remaining in the air over long distances.', 'People may also become infected by touching a contaminated surface and then touching their face.', 'On surfaces, the amount of virus declines over time until it is insufficient to remain infectious, but it may be detected for hours or days.', 'It is most contagious during the first three days after the onset of symptoms, although spread may be possible before symptoms appear and in later stages of the disease.', 'Common symptoms include fever, cough, fatigue, shortness of breath, and loss of smell.', 'Complications may include pneumonia and acute respiratory distress syndrome.', 'The time from exposure to onset of symptoms is typically around five days, but may range from two to fourteen days.', 'There is no known vaccine or specific antiviral treatment.Primary treatment is symptomatic and supportive therapy.'] \n",
      "  \n"
     ]
    }
   ],
   "source": [
    "\n",
    "from nltk.tokenize import word_tokenize\n",
    "from nltk.tokenize import sent_tokenize\n",
    "SenTok=sent_tokenize(formatted_article_text)\n",
    "print(SenTok,\"\\n  \")"
   ]
  },
  {
   "cell_type": "code",
   "execution_count": 344,
   "metadata": {},
   "outputs": [],
   "source": [
    "stopwords = nltk.corpus.stopwords.words('english')\n",
    "\n",
    "word_frequencies = {}  \n",
    "for word in nltk.word_tokenize(formatted_article_text):  \n",
    "    if word not in stopwords:\n",
    "        if word not in word_frequencies.keys():\n",
    "            word_frequencies[word] = 1\n",
    "        else:\n",
    "            word_frequencies[word] += 1"
   ]
  },
  {
   "cell_type": "code",
   "execution_count": 314,
   "metadata": {},
   "outputs": [
    {
     "data": {
      "text/plain": [
       "{'The 2019-20 coronavirus pandemic is an ongoing pandemic of coronavirus disease 2019 (COVID-19) caused by severe acute respiratory syndrome coronavirus 2 (SARS-CoV-2).': 3.125,\n",
       " 'The outbreak was identified in Wuhan, China, in December 2019.': 3.0625,\n",
       " 'More than 1.01 million people have recovered.': 1.125,\n",
       " 'People may also become infected by touching a contaminated surface and then touching their face.': 1.8125,\n",
       " 'On surfaces, the amount of virus declines over time until it is insufficient to remain infectious, but it may be detected for hours or days.': 4.125,\n",
       " 'It is most contagious during the first three days after the onset of symptoms, although spread may be possible before symptoms appear and in later stages of the disease.': 3.6875,\n",
       " 'Common symptoms include fever, cough, fatigue, shortness of breath, and loss of smell.': 5.5625,\n",
       " 'Complications may include pneumonia and acute respiratory distress syndrome.': 1.6875,\n",
       " 'The time from exposure to onset of symptoms is typically around five days, but may range from two to fourteen days.': 3.5,\n",
       " 'There is no known vaccine or specific antiviral treatment.Primary treatment is symptomatic and supportive therapy.': 1.25}"
      ]
     },
     "execution_count": 314,
     "metadata": {},
     "output_type": "execute_result"
    }
   ],
   "source": [
    "maximum_frequncy = max(word_frequencies.values())\n",
    "\n",
    "for word in word_frequencies.keys():  \n",
    "    word_frequencies[word] = (word_frequencies[word]/maximum_frequncy)\n",
    "sentence_scores = {}  \n",
    "for sent in SenTok:  \n",
    "    for word in nltk.word_tokenize(sent.lower()):\n",
    "        if word in word_frequencies.keys():\n",
    "            if len(sent.split(' ')) < 30:\n",
    "                if sent not in sentence_scores.keys():\n",
    "                    sentence_scores[sent] = word_frequencies[word]\n",
    "                else:\n",
    "                    sentence_scores[sent] += word_frequencies[word]\n",
    "sentence_scores"
   ]
  },
  {
   "cell_type": "code",
   "execution_count": 315,
   "metadata": {},
   "outputs": [
    {
     "name": "stdout",
     "output_type": "stream",
     "text": [
      "Common symptoms include fever, cough, fatigue, shortness of breath, and loss of smell. On surfaces, the amount of virus declines over time until it is insufficient to remain infectious, but it may be detected for hours or days. It is most contagious during the first three days after the onset of symptoms, although spread may be possible before symptoms appear and in later stages of the disease. The time from exposure to onset of symptoms is typically around five days, but may range from two to fourteen days. The 2019-20 coronavirus pandemic is an ongoing pandemic of coronavirus disease 2019 (COVID-19) caused by severe acute respiratory syndrome coronavirus 2 (SARS-CoV-2). The outbreak was identified in Wuhan, China, in December 2019. People may also become infected by touching a contaminated surface and then touching their face.\n"
     ]
    }
   ],
   "source": [
    "import heapq  \n",
    "summary_sentences = heapq.nlargest(7, sentence_scores, key=sentence_scores.get)\n",
    "\n",
    "summary = ' '.join(summary_sentences)  \n",
    "print(summary)"
   ]
  },
  {
   "cell_type": "code",
   "execution_count": 316,
   "metadata": {},
   "outputs": [],
   "source": [
    "summary_sent=sent_tokenize(summary)"
   ]
  },
  {
   "cell_type": "code",
   "execution_count": 317,
   "metadata": {},
   "outputs": [
    {
     "data": {
      "text/plain": [
       "['Common symptoms include fever, cough, fatigue, shortness of breath, and loss of smell.',\n",
       " 'On surfaces, the amount of virus declines over time until it is insufficient to remain infectious, but it may be detected for hours or days.',\n",
       " 'It is most contagious during the first three days after the onset of symptoms, although spread may be possible before symptoms appear and in later stages of the disease.',\n",
       " 'The time from exposure to onset of symptoms is typically around five days, but may range from two to fourteen days.',\n",
       " 'The 2019-20 coronavirus pandemic is an ongoing pandemic of coronavirus disease 2019 (COVID-19) caused by severe acute respiratory syndrome coronavirus 2 (SARS-CoV-2).',\n",
       " 'The outbreak was identified in Wuhan, China, in December 2019.',\n",
       " 'People may also become infected by touching a contaminated surface and then touching their face.']"
      ]
     },
     "execution_count": 317,
     "metadata": {},
     "output_type": "execute_result"
    }
   ],
   "source": [
    "summary_sent"
   ]
  },
  {
   "cell_type": "code",
   "execution_count": 322,
   "metadata": {},
   "outputs": [],
   "source": [
    "import os\n",
    "image_path  = \"C:\\\\Users\\\\USER\\\\Desktop\\\\downloads\"\n",
    "imagelist= []\n",
    "for fn in os.listdir(image_path):\n",
    "    imagelist.append(fn)"
   ]
  },
  {
   "cell_type": "code",
   "execution_count": 323,
   "metadata": {},
   "outputs": [
    {
     "data": {
      "text/plain": [
       "['14 days.jpg',\n",
       " 'actor.jpeg',\n",
       " 'AI.jpeg',\n",
       " 'art30-45.jpg',\n",
       " 'artmaterials.jpeg',\n",
       " 'barrack obama.jpeg',\n",
       " 'beach.jpeg',\n",
       " 'beautiful tree.jpeg',\n",
       " 'breath.jpg',\n",
       " 'contagious.jpg',\n",
       " 'coronavirus.jpg',\n",
       " 'cough.jpg',\n",
       " 'CoV.jpg',\n",
       " 'COVID.jpg',\n",
       " 'December.jpg',\n",
       " 'disease.jpg',\n",
       " 'Dromedary-camels.jpg',\n",
       " 'fatigue.jpg',\n",
       " 'fever.jpg',\n",
       " 'habbit.jpeg',\n",
       " 'happy life .jpeg',\n",
       " 'images (21).jpeg',\n",
       " 'infected.jpg',\n",
       " 'korean.jpeg',\n",
       " 'lenovo-laptop-legion-y7000-hero.webp',\n",
       " 'loss of smell.jpg',\n",
       " 'mallala.jpeg',\n",
       " 'Mother Teresa.jpeg',\n",
       " 'natural.jpeg',\n",
       " 'pandemic.jpg',\n",
       " 'samsung_tab.jpeg',\n",
       " 'smiley emojis.jpeg',\n",
       " 'song joon ki.jpeg',\n",
       " 'symptoms.jpg',\n",
       " 'Wuhan.jpg',\n",
       " 'Zayn.jpeg']"
      ]
     },
     "execution_count": 323,
     "metadata": {},
     "output_type": "execute_result"
    }
   ],
   "source": [
    "imagelist"
   ]
  },
  {
   "cell_type": "code",
   "execution_count": 324,
   "metadata": {},
   "outputs": [],
   "source": [
    "str1=\"\"\n",
    "si=[]\n",
    "ki=[]\n",
    "image_list=[]\n",
    "for e in summary_sent:\n",
    "    str1 += e\n",
    "li = list(str1.split(\" \")) \n",
    "for i in li:\n",
    "    si.append(i+\".jpg\")\n",
    "for j in li:\n",
    "    ki.append(j+\".jpeg\")\n",
    "for i in si:\n",
    "    for j in imagelist:\n",
    "        if(i==j):\n",
    "            image_list.append(j)\n",
    "for k in ki:\n",
    "    for m in imagelist:\n",
    "        if(k==m):\n",
    "            image_list.append(m)\n",
    "   \n",
    "    "
   ]
  },
  {
   "cell_type": "code",
   "execution_count": 325,
   "metadata": {},
   "outputs": [
    {
     "data": {
      "text/plain": [
       "['symptoms.jpg',\n",
       " 'contagious.jpg',\n",
       " 'symptoms.jpg',\n",
       " 'symptoms.jpg',\n",
       " 'coronavirus.jpg',\n",
       " 'pandemic.jpg',\n",
       " 'pandemic.jpg',\n",
       " 'coronavirus.jpg',\n",
       " 'disease.jpg',\n",
       " 'coronavirus.jpg',\n",
       " 'December.jpg',\n",
       " 'infected.jpg']"
      ]
     },
     "execution_count": 325,
     "metadata": {},
     "output_type": "execute_result"
    }
   ],
   "source": [
    "image_list"
   ]
  },
  {
   "cell_type": "code",
   "execution_count": 326,
   "metadata": {},
   "outputs": [],
   "source": [
    "my_set = {}\n",
    "i=0\n",
    "while i < len(summary_sent):\n",
    "    my_set.update({summary_sent[i]:[image_list[i],image_list[i+1]]})\n",
    "    i += 1"
   ]
  },
  {
   "cell_type": "code",
   "execution_count": 327,
   "metadata": {},
   "outputs": [
    {
     "data": {
      "text/plain": [
       "{'Common symptoms include fever, cough, fatigue, shortness of breath, and loss of smell.': ['symptoms.jpg',\n",
       "  'contagious.jpg'],\n",
       " 'On surfaces, the amount of virus declines over time until it is insufficient to remain infectious, but it may be detected for hours or days.': ['contagious.jpg',\n",
       "  'symptoms.jpg'],\n",
       " 'It is most contagious during the first three days after the onset of symptoms, although spread may be possible before symptoms appear and in later stages of the disease.': ['symptoms.jpg',\n",
       "  'symptoms.jpg'],\n",
       " 'The time from exposure to onset of symptoms is typically around five days, but may range from two to fourteen days.': ['symptoms.jpg',\n",
       "  'coronavirus.jpg'],\n",
       " 'The 2019-20 coronavirus pandemic is an ongoing pandemic of coronavirus disease 2019 (COVID-19) caused by severe acute respiratory syndrome coronavirus 2 (SARS-CoV-2).': ['coronavirus.jpg',\n",
       "  'pandemic.jpg'],\n",
       " 'The outbreak was identified in Wuhan, China, in December 2019.': ['pandemic.jpg',\n",
       "  'pandemic.jpg'],\n",
       " 'People may also become infected by touching a contaminated surface and then touching their face.': ['pandemic.jpg',\n",
       "  'coronavirus.jpg']}"
      ]
     },
     "execution_count": 327,
     "metadata": {},
     "output_type": "execute_result"
    }
   ],
   "source": [
    "my_set\n"
   ]
  },
  {
   "cell_type": "code",
   "execution_count": 328,
   "metadata": {},
   "outputs": [],
   "source": [
    "all_paths=list(my_set.values())\n",
    "flat_list=[]"
   ]
  },
  {
   "cell_type": "code",
   "execution_count": 329,
   "metadata": {},
   "outputs": [],
   "source": [
    "for sublist in all_paths:\n",
    "    for item in sublist:\n",
    "        flat_list.append(item)"
   ]
  },
  {
   "cell_type": "code",
   "execution_count": 330,
   "metadata": {},
   "outputs": [
    {
     "data": {
      "text/plain": [
       "['symptoms.jpg',\n",
       " 'contagious.jpg',\n",
       " 'contagious.jpg',\n",
       " 'symptoms.jpg',\n",
       " 'symptoms.jpg',\n",
       " 'symptoms.jpg',\n",
       " 'symptoms.jpg',\n",
       " 'coronavirus.jpg',\n",
       " 'coronavirus.jpg',\n",
       " 'pandemic.jpg',\n",
       " 'pandemic.jpg',\n",
       " 'pandemic.jpg',\n",
       " 'pandemic.jpg',\n",
       " 'coronavirus.jpg']"
      ]
     },
     "execution_count": 330,
     "metadata": {},
     "output_type": "execute_result"
    }
   ],
   "source": [
    "flat_list"
   ]
  },
  {
   "cell_type": "code",
   "execution_count": 331,
   "metadata": {},
   "outputs": [],
   "source": [
    "sub1 = '.png'\n",
    "impng=[]\n",
    "for text in flat_list:\n",
    "    if sub1 in text:\n",
    "        impng.append(text)"
   ]
  },
  {
   "cell_type": "code",
   "execution_count": 332,
   "metadata": {},
   "outputs": [
    {
     "data": {
      "text/plain": [
       "[]"
      ]
     },
     "execution_count": 332,
     "metadata": {},
     "output_type": "execute_result"
    }
   ],
   "source": [
    "impng"
   ]
  },
  {
   "cell_type": "code",
   "execution_count": 333,
   "metadata": {},
   "outputs": [
    {
     "data": {
      "text/plain": [
       "['symptoms.jpg',\n",
       " 'contagious.jpg',\n",
       " 'contagious.jpg',\n",
       " 'symptoms.jpg',\n",
       " 'symptoms.jpg',\n",
       " 'symptoms.jpg',\n",
       " 'symptoms.jpg',\n",
       " 'coronavirus.jpg',\n",
       " 'coronavirus.jpg',\n",
       " 'pandemic.jpg',\n",
       " 'pandemic.jpg',\n",
       " 'pandemic.jpg',\n",
       " 'pandemic.jpg',\n",
       " 'coronavirus.jpg']"
      ]
     },
     "execution_count": 333,
     "metadata": {},
     "output_type": "execute_result"
    }
   ],
   "source": [
    "sub2 = '.jpg'\n",
    "imjpg=[]\n",
    "for text in flat_list:\n",
    "    if sub2 in text:\n",
    "        imjpg.append(text)\n",
    "imjpg"
   ]
  },
  {
   "cell_type": "code",
   "execution_count": 334,
   "metadata": {},
   "outputs": [
    {
     "data": {
      "text/plain": [
       "[]"
      ]
     },
     "execution_count": 334,
     "metadata": {},
     "output_type": "execute_result"
    }
   ],
   "source": [
    "sub3 = '.jpeg'\n",
    "imjpeg=[]\n",
    "for text in flat_list:\n",
    "    if sub3 in text:\n",
    "        imjpeg.append(text)\n",
    "imjpeg"
   ]
  },
  {
   "cell_type": "code",
   "execution_count": 335,
   "metadata": {},
   "outputs": [
    {
     "data": {
      "text/plain": [
       "14"
      ]
     },
     "execution_count": 335,
     "metadata": {},
     "output_type": "execute_result"
    }
   ],
   "source": [
    "flat_list=impng+imjpg+imjpeg\n",
    "len(flat_list)"
   ]
  },
  {
   "cell_type": "code",
   "execution_count": 336,
   "metadata": {},
   "outputs": [],
   "source": [
    "import glob\n",
    "import shutil\n",
    "import os\n",
    "no=[] \n",
    "src_dir = \"C:\\\\Users\\\\USER\\\\Desktop\\\\downloads\\\\\"\n",
    "dst_dir = \"C:\\\\Users\\\\USER\\\\Desktop\\\\images\\\\\"\n",
    "for jpgfile in glob.iglob(os.path.join(src_dir, \"*.jpg\")):\n",
    "    shutil.copy(jpgfile, dst_dir)\n",
    "    no.append('%s' %(jpgfile))"
   ]
  },
  {
   "cell_type": "code",
   "execution_count": 337,
   "metadata": {},
   "outputs": [
    {
     "data": {
      "text/plain": [
       "['C:\\\\Users\\\\USER\\\\Desktop\\\\downloads\\\\14 days.jpg',\n",
       " 'C:\\\\Users\\\\USER\\\\Desktop\\\\downloads\\\\art30-45.jpg',\n",
       " 'C:\\\\Users\\\\USER\\\\Desktop\\\\downloads\\\\breath.jpg',\n",
       " 'C:\\\\Users\\\\USER\\\\Desktop\\\\downloads\\\\contagious.jpg',\n",
       " 'C:\\\\Users\\\\USER\\\\Desktop\\\\downloads\\\\coronavirus.jpg',\n",
       " 'C:\\\\Users\\\\USER\\\\Desktop\\\\downloads\\\\cough.jpg',\n",
       " 'C:\\\\Users\\\\USER\\\\Desktop\\\\downloads\\\\CoV.jpg',\n",
       " 'C:\\\\Users\\\\USER\\\\Desktop\\\\downloads\\\\COVID.jpg',\n",
       " 'C:\\\\Users\\\\USER\\\\Desktop\\\\downloads\\\\December.jpg',\n",
       " 'C:\\\\Users\\\\USER\\\\Desktop\\\\downloads\\\\disease.jpg',\n",
       " 'C:\\\\Users\\\\USER\\\\Desktop\\\\downloads\\\\Dromedary-camels.jpg',\n",
       " 'C:\\\\Users\\\\USER\\\\Desktop\\\\downloads\\\\fatigue.jpg',\n",
       " 'C:\\\\Users\\\\USER\\\\Desktop\\\\downloads\\\\fever.jpg',\n",
       " 'C:\\\\Users\\\\USER\\\\Desktop\\\\downloads\\\\infected.jpg',\n",
       " 'C:\\\\Users\\\\USER\\\\Desktop\\\\downloads\\\\loss of smell.jpg',\n",
       " 'C:\\\\Users\\\\USER\\\\Desktop\\\\downloads\\\\pandemic.jpg',\n",
       " 'C:\\\\Users\\\\USER\\\\Desktop\\\\downloads\\\\symptoms.jpg',\n",
       " 'C:\\\\Users\\\\USER\\\\Desktop\\\\downloads\\\\Wuhan.jpg']"
      ]
     },
     "execution_count": 337,
     "metadata": {},
     "output_type": "execute_result"
    }
   ],
   "source": [
    "no"
   ]
  },
  {
   "cell_type": "code",
   "execution_count": 338,
   "metadata": {},
   "outputs": [],
   "source": [
    "from PIL import Image\n",
    "i=0\n",
    "l=len(flat_list)\n",
    "\n",
    "try:\n",
    "    while i < l:\n",
    "        Image.open(flat_list[i]).convert('RGB')\n",
    "        print(flat_list[i])\n",
    "        i=i+1\n",
    "    \n",
    "except:\n",
    "    pass\n"
   ]
  },
  {
   "cell_type": "code",
   "execution_count": 339,
   "metadata": {},
   "outputs": [],
   "source": [
    "try:\n",
    "    i=0\n",
    "    while i < l:\n",
    "        Image.open(flat_list[i]).convert('RGB').save(no[i])\n",
    "        print(flat_list[i])\n",
    "\n",
    "        i+=1\n",
    "except:\n",
    "    pass"
   ]
  },
  {
   "cell_type": "code",
   "execution_count": 340,
   "metadata": {},
   "outputs": [],
   "source": [
    "import os\n",
    "os.sys.path\n",
    "def make_video(images, outimg=None, fps=2, size=None,\n",
    "               is_color=True, format=\"XVID\"):\n",
    "\n",
    "    from cv2 import VideoWriter, VideoWriter_fourcc, imread, resize\n",
    "    fourcc = VideoWriter_fourcc(*format)\n",
    "    vid = None\n",
    "    for image in images:\n",
    "        if not os.path.exists(image):\n",
    "            raise FileNotFoundError(image)\n",
    "        img = imread(image)\n",
    "        if vid is None:\n",
    "            if size is None:\n",
    "                size = img.shape[1], img.shape[0]\n",
    "            vid = VideoWriter('video.mp4', fourcc, float(fps), size, is_color)\n",
    "        if size[0] != img.shape[1] and size[1] != img.shape[0]:\n",
    "            img = resize(img, size)\n",
    "        vid.write(img)\n",
    "    vid.release()\n",
    "    return vid"
   ]
  },
  {
   "cell_type": "code",
   "execution_count": 341,
   "metadata": {},
   "outputs": [
    {
     "data": {
      "text/plain": [
       "<VideoWriter 0000019341DB9470>"
      ]
     },
     "execution_count": 341,
     "metadata": {},
     "output_type": "execute_result"
    }
   ],
   "source": [
    "make_video(no, outimg=None, fps=2, size=None,is_color=True, format=\"XVID\")"
   ]
  },
  {
   "cell_type": "code",
   "execution_count": 342,
   "metadata": {},
   "outputs": [],
   "source": [
    "import moviepy\n",
    "import moviepy.editor as mp"
   ]
  },
  {
   "cell_type": "code",
   "execution_count": 345,
   "metadata": {},
   "outputs": [
    {
     "name": "stdout",
     "output_type": "stream",
     "text": [
      "Moviepy - Building video output.mp4.\n",
      "MoviePy - Writing audio in outputTEMP_MPY_wvf_snd.mp3\n"
     ]
    },
    {
     "name": "stderr",
     "output_type": "stream",
     "text": [
      "                                                                   \r"
     ]
    },
    {
     "name": "stdout",
     "output_type": "stream",
     "text": [
      "MoviePy - Done.\n",
      "Moviepy - Writing video output.mp4\n",
      "\n"
     ]
    },
    {
     "name": "stderr",
     "output_type": "stream",
     "text": [
      "                                                   \r"
     ]
    },
    {
     "name": "stdout",
     "output_type": "stream",
     "text": [
      "Moviepy - Done !\n",
      "Moviepy - video ready output.mp4\n"
     ]
    }
   ],
   "source": [
    "if sound_type == \"neu\":\n",
    "    audio = mp.AudioFileClip(\"neu_sound.mp3\")\n",
    "    video1 = mp.VideoFileClip(\"video.mp4\")\n",
    "    final = mp.concatenate_videoclips([video1]).set_audio(audio)\n",
    "    final.write_videofile(\"output.mp4\")"
   ]
  },
  {
   "cell_type": "code",
   "execution_count": null,
   "metadata": {},
   "outputs": [],
   "source": [
    "if sound_type == \"pos\":\n",
    "    audio = mp.AudioFileClip(\"pos_sound.mp3\")\n",
    "    video1 = mp.VideoFileClip(\"v.mp4\")\n",
    "    final = mp.concatenate_videoclips([video1]).set_audio(audio)\n",
    "    final.write_videofile(\"output.mp4\")"
   ]
  },
  {
   "cell_type": "code",
   "execution_count": null,
   "metadata": {},
   "outputs": [],
   "source": [
    "if sound_type == \"neg\":\n",
    "    audio = mp.AudioFileClip(\"neg_sound.mp3\")\n",
    "    video1 = mp.VideoFileClip(\"v.mp4\")\n",
    "    final = mp.concatenate_videoclips([video1]).set_audio(audio)\n",
    "    final.write_videofile(\"output.mp4\")"
   ]
  }
 ],
 "metadata": {
  "kernelspec": {
   "display_name": "Python 3",
   "language": "python",
   "name": "python3"
  },
  "language_info": {
   "codemirror_mode": {
    "name": "ipython",
    "version": 3
   },
   "file_extension": ".py",
   "mimetype": "text/x-python",
   "name": "python",
   "nbconvert_exporter": "python",
   "pygments_lexer": "ipython3",
   "version": "3.7.4"
  }
 },
 "nbformat": 4,
 "nbformat_minor": 2
}
