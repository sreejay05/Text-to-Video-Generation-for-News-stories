{
 "cells": [
  {
   "cell_type": "code",
   "execution_count": 1,
   "metadata": {},
   "outputs": [
    {
     "data": {
      "text/plain": [
       "'The 2019-20 coronavirus pandemic is an ongoing pandemic of coronavirus disease 2019 (COVID-19) caused by severe  respiratory syndrome coronavirus 2 (SARS-CoV-2). The outbreak was identified in Wuhan, China, in December 2019. The World Health Organization declared the outbreak a Public Health Emergency of International Concern on 30 January, and a pandemic on 11 March.As of 1 May 2020, more than 3.25 million cases of COVID-19 have been reported in 187 countries and territories, resulting in more than 233,000 deaths. More than 1.01 million people have recovered.\\\\n\\\\nThe virus is primarily spread between people during close contact,often via small droplets produced by coughing,sneezing, or talking.The droplets usually fall to the ground or onto surfaces rather than remaining in the air over long distances. People may also become infected by touching a contaminated surface and then touching their face. On surfaces, the amount of virus declines over time until it is insufficient to remain infectious, but it may be detected for hours or days. It is most contagious during the first three days after the onset of symptoms, although spread may be possible before symptoms appear and in later stages of the disease.\\\\nCommon symptoms include fever, cough, fatigue, shortness of breath, and loss of smell. Complications may include pneumonia and  respiratory distress syndrome. The time from exposure to onset of symptoms is typically around five days, but may range from two to fourteen days. There is no known vaccine or specific antiviral treatment.Primary treatment is symptomatic and supportive therapy.\\n\\n\\n'"
      ]
     },
     "execution_count": 1,
     "metadata": {},
     "output_type": "execute_result"
    }
   ],
   "source": [
    "file = open(\"C:\\\\Users\\\\USER\\\\Desktop\\\\doc.txt\", 'rt')\n",
    "text = file.read()\n",
    "file.close()\n",
    "text"
   ]
  },
  {
   "cell_type": "code",
   "execution_count": 2,
   "metadata": {},
   "outputs": [
    {
     "name": "stdout",
     "output_type": "stream",
     "text": [
      "compound: -0.963, neg: 0.095, neu: 0.894, pos: 0.011, neu\n",
      "neu\n"
     ]
    },
    {
     "data": {
      "text/plain": [
       "'The 2019-20 coronavirus pandemic is an ongoing pandemic of coronavirus disease 2019 (COVID-19) caused by severe respiratory syndrome coronavirus 2 (SARS-CoV-2). The outbreak was identified in Wuhan, China, in December 2019. The World Health Organization declared the outbreak a Public Health Emergency of International Concern on 30 January, and a pandemic on 11 March.As of 1 May 2020, more than 3.25 million cases of COVID-19 have been reported in 187 countries and territories, resulting in more than 233,000 deaths. More than 1.01 million people have recovered.\\\\n\\\\nThe virus is primarily spread between people during close contact,often via small droplets produced by coughing,sneezing, or talking.The droplets usually fall to the ground or onto surfaces rather than remaining in the air over long distances. People may also become infected by touching a contaminated surface and then touching their face. On surfaces, the amount of virus declines over time until it is insufficient to remain infectious, but it may be detected for hours or days. It is most contagious during the first three days after the onset of symptoms, although spread may be possible before symptoms appear and in later stages of the disease.\\\\nCommon symptoms include fever, cough, fatigue, shortness of breath, and loss of smell. Complications may include pneumonia and respiratory distress syndrome. The time from exposure to onset of symptoms is typically around five days, but may range from two to fourteen days. There is no known vaccine or specific antiviral treatment.Primary treatment is symptomatic and supportive therapy. '"
      ]
     },
     "execution_count": 2,
     "metadata": {},
     "output_type": "execute_result"
    }
   ],
   "source": [
    "from nltk.sentiment.vader import SentimentIntensityAnalyzer\n",
    "sid = SentimentIntensityAnalyzer()\n",
    "message_text = text\n",
    "scores = sid.polarity_scores(message_text)\n",
    "for key in sorted(scores):    \n",
    "        print('{0}: {1}, '.format(key, scores[key]), end='')\n",
    "scores\n",
    "inverse = [(value, key) for key, value in scores.items()]\n",
    "sound_type=max(inverse)[1]\n",
    "print (sound_type)\n",
    "inverse = [(value, key) for key, value in scores.items()]\n",
    "sound_type=max(inverse)[1]\n",
    "print (sound_type)\n",
    "import re\n",
    "# Removing Square Brackets and Extra Spaces\n",
    "article_text = re.sub(r'\\[[0-9]*\\]', ' ', text)  \n",
    "article_text = re.sub(r'\\s+', ' ', text) \n",
    "\n",
    "# Removing special characters and digits\n",
    "formatted_article_text = re.sub('[^a-zA-Z]', ' ', article_text )  \n",
    "formatted_article_text = re.sub(r'\\s+', ' ',article_text)\n",
    "formatted_article_text"
   ]
  },
  {
   "cell_type": "code",
   "execution_count": 3,
   "metadata": {},
   "outputs": [
    {
     "name": "stdout",
     "output_type": "stream",
     "text": [
      "['The 2019-20 coronavirus pandemic is an ongoing pandemic of coronavirus disease 2019 (COVID-19) caused by severe respiratory syndrome coronavirus 2 (SARS-CoV-2).', 'The outbreak was identified in Wuhan, China, in December 2019.', 'The World Health Organization declared the outbreak a Public Health Emergency of International Concern on 30 January, and a pandemic on 11 March.As of 1 May 2020, more than 3.25 million cases of COVID-19 have been reported in 187 countries and territories, resulting in more than 233,000 deaths.', 'More than 1.01 million people have recovered.\\\\n\\\\nThe virus is primarily spread between people during close contact,often via small droplets produced by coughing,sneezing, or talking.The droplets usually fall to the ground or onto surfaces rather than remaining in the air over long distances.', 'People may also become infected by touching a contaminated surface and then touching their face.', 'On surfaces, the amount of virus declines over time until it is insufficient to remain infectious, but it may be detected for hours or days.', 'It is most contagious during the first three days after the onset of symptoms, although spread may be possible before symptoms appear and in later stages of the disease.\\\\nCommon symptoms include fever, cough, fatigue, shortness of breath, and loss of smell.', 'Complications may include pneumonia and respiratory distress syndrome.', 'The time from exposure to onset of symptoms is typically around five days, but may range from two to fourteen days.', 'There is no known vaccine or specific antiviral treatment.Primary treatment is symptomatic and supportive therapy.'] \n",
      "  \n"
     ]
    }
   ],
   "source": [
    "from nltk.tokenize import word_tokenize\n",
    "from nltk.tokenize import sent_tokenize\n",
    "SenTok=sent_tokenize(formatted_article_text)\n",
    "print(SenTok,\"\\n  \")"
   ]
  },
  {
   "cell_type": "code",
   "execution_count": 5,
   "metadata": {},
   "outputs": [],
   "source": [
    "import nltk\n",
    "stopwords = nltk.corpus.stopwords.words('english')\n",
    "\n",
    "word_frequencies = {}  \n",
    "for word in nltk.word_tokenize(formatted_article_text):  \n",
    "    if word not in stopwords:\n",
    "        if word not in word_frequencies.keys():\n",
    "            word_frequencies[word] = 1\n",
    "        else:\n",
    "            word_frequencies[word] += 1"
   ]
  },
  {
   "cell_type": "code",
   "execution_count": 6,
   "metadata": {},
   "outputs": [
    {
     "data": {
      "text/plain": [
       "{'The 2019-20 coronavirus pandemic is an ongoing pandemic of coronavirus disease 2019 (COVID-19) caused by severe respiratory syndrome coronavirus 2 (SARS-CoV-2).': 2.8125,\n",
       " 'The outbreak was identified in Wuhan, China, in December 2019.': 2.9375,\n",
       " 'People may also become infected by touching a contaminated surface and then touching their face.': 1.6875,\n",
       " 'On surfaces, the amount of virus declines over time until it is insufficient to remain infectious, but it may be detected for hours or days.': 4.0,\n",
       " 'Complications may include pneumonia and respiratory distress syndrome.': 1.4375,\n",
       " 'The time from exposure to onset of symptoms is typically around five days, but may range from two to fourteen days.': 3.375,\n",
       " 'There is no known vaccine or specific antiviral treatment.Primary treatment is symptomatic and supportive therapy.': 1.125}"
      ]
     },
     "execution_count": 6,
     "metadata": {},
     "output_type": "execute_result"
    }
   ],
   "source": [
    "maximum_frequncy = max(word_frequencies.values())\n",
    "\n",
    "for word in word_frequencies.keys():  \n",
    "    word_frequencies[word] = (word_frequencies[word]/maximum_frequncy)\n",
    "sentence_scores = {}  \n",
    "for sent in SenTok:  \n",
    "    for word in nltk.word_tokenize(sent.lower()):\n",
    "        if word in word_frequencies.keys():\n",
    "            if len(sent.split(' ')) < 30:\n",
    "                if sent not in sentence_scores.keys():\n",
    "                    sentence_scores[sent] = word_frequencies[word]\n",
    "                else:\n",
    "                    sentence_scores[sent] += word_frequencies[word]\n",
    "sentence_scores"
   ]
  },
  {
   "cell_type": "code",
   "execution_count": 7,
   "metadata": {},
   "outputs": [
    {
     "name": "stdout",
     "output_type": "stream",
     "text": [
      "On surfaces, the amount of virus declines over time until it is insufficient to remain infectious, but it may be detected for hours or days. The time from exposure to onset of symptoms is typically around five days, but may range from two to fourteen days. The outbreak was identified in Wuhan, China, in December 2019. The 2019-20 coronavirus pandemic is an ongoing pandemic of coronavirus disease 2019 (COVID-19) caused by severe respiratory syndrome coronavirus 2 (SARS-CoV-2). People may also become infected by touching a contaminated surface and then touching their face. Complications may include pneumonia and respiratory distress syndrome. There is no known vaccine or specific antiviral treatment.Primary treatment is symptomatic and supportive therapy.\n"
     ]
    }
   ],
   "source": [
    "import heapq  \n",
    "summary_sentences = heapq.nlargest(7, sentence_scores, key=sentence_scores.get)\n",
    "\n",
    "summary = ' '.join(summary_sentences)  \n",
    "print(summary)"
   ]
  },
  {
   "cell_type": "code",
   "execution_count": 8,
   "metadata": {},
   "outputs": [
    {
     "data": {
      "text/plain": [
       "['On surfaces, the amount of virus declines over time until it is insufficient to remain infectious, but it may be detected for hours or days.',\n",
       " 'The time from exposure to onset of symptoms is typically around five days, but may range from two to fourteen days.',\n",
       " 'The outbreak was identified in Wuhan, China, in December 2019.',\n",
       " 'The 2019-20 coronavirus pandemic is an ongoing pandemic of coronavirus disease 2019 (COVID-19) caused by severe respiratory syndrome coronavirus 2 (SARS-CoV-2).',\n",
       " 'People may also become infected by touching a contaminated surface and then touching their face.',\n",
       " 'Complications may include pneumonia and respiratory distress syndrome.',\n",
       " 'There is no known vaccine or specific antiviral treatment.Primary treatment is symptomatic and supportive therapy.']"
      ]
     },
     "execution_count": 8,
     "metadata": {},
     "output_type": "execute_result"
    }
   ],
   "source": [
    "summary_sent=sent_tokenize(summary)\n",
    "summary_sent"
   ]
  },
  {
   "cell_type": "code",
   "execution_count": 9,
   "metadata": {},
   "outputs": [
    {
     "name": "stdout",
     "output_type": "stream",
     "text": [
      "On surfaces, the amount of virus declines over time until it is insufficient to remain infectious, but it may be detected for hours or days.\n",
      "The time from exposure to onset of symptoms is typically around five days, but may range from two to fourteen days.\n",
      "The outbreak was identified in Wuhan, China, in December 2019.\n",
      "The 2019-20 coronavirus pandemic is an ongoing pandemic of coronavirus disease 2019 (COVID-19) caused by severe respiratory syndrome coronavirus 2 (SARS-CoV-2).\n",
      "People may also become infected by touching a contaminated surface and then touching their face.\n",
      "Complications may include pneumonia and respiratory distress syndrome.\n",
      "There is no known vaccine or specific antiviral treatment.\n",
      "Primary treatment is symptomatic and supportive therapy.\n"
     ]
    }
   ],
   "source": [
    "import en_core_web_sm\n",
    "import spacy\n",
    "nlp = en_core_web_sm.load()\n",
    "content = summary\n",
    "doc = nlp(content)\n",
    "for sents in doc.sents:\n",
    "    print(sents.text)"
   ]
  },
  {
   "cell_type": "code",
   "execution_count": 10,
   "metadata": {},
   "outputs": [
    {
     "name": "stdout",
     "output_type": "stream",
     "text": [
      "[Wuhan, China, December, coronavirus, disease, COVID-19, coronavirus, SARS, CoV-2, respiratory]\n"
     ]
    }
   ],
   "source": [
    "candidate_pos = ['PROPN']\n",
    "selected_words = []\n",
    "for sent in doc.sents:\n",
    "    \n",
    "    for token in sent:\n",
    "        if token.pos_ in candidate_pos and token.is_stop is False:\n",
    "            selected_words.append(token)\n",
    "print(selected_words)"
   ]
  },
  {
   "cell_type": "code",
   "execution_count": 11,
   "metadata": {},
   "outputs": [
    {
     "name": "stdout",
     "output_type": "stream",
     "text": [
      "['http://pics4.baidu.com/feed/0b55b319ebc4b7452b2654c2eee680118b821550.jpeg?token=d4f02b0105ba284c92d528663890d289', 'http://dpic.tiankong.com/ie/jx/QJ6554613578.jpg']\n",
      "['http://pics4.baidu.com/feed/0b55b319ebc4b7452b2654c2eee680118b821550.jpeg?token=d4f02b0105ba284c92d528663890d289', 'http://dpic.tiankong.com/ie/jx/QJ6554613578.jpg']\n",
      "['http://inews.gtimg.com/newsapp_bt/0/11358276386/641.jpg', 'http://vic.sina.com.cn/res/2012/0626/U6961P647DT20120626235640.jpg']\n",
      "['http://inews.gtimg.com/newsapp_bt/0/11358276386/641.jpg', 'http://vic.sina.com.cn/res/2012/0626/U6961P647DT20120626235640.jpg']\n",
      "['http://b-ssl.duitang.com/uploads/item/201512/09/20151209075049_5LKB3.jpeg', 'http://b-ssl.duitang.com/uploads/item/201412/01/20141201214740_4jLCN.jpeg']\n",
      "['http://b-ssl.duitang.com/uploads/item/201512/09/20151209075049_5LKB3.jpeg', 'http://b-ssl.duitang.com/uploads/item/201412/01/20141201214740_4jLCN.jpeg']\n",
      "exception\n",
      "['http://thumbs.dreamstime.com/b/coronavirus%EF%BC%8C%E5%AF%BC-sars%E5%92%8Cmers%E7%9A%84%E7%97%85%E6%AF%92-82283956.jpg', 'http://thumbs.dreamstime.com/b/coronavirus%EF%BC%8C%E5%AF%BC-sars%E5%92%8Cmers%E7%9A%84%E7%97%85%E6%AF%92-82284361.jpg']\n",
      "['http://thumbs.dreamstime.com/b/coronavirus%EF%BC%8C%E5%AF%BC-sars%E5%92%8Cmers%E7%9A%84%E7%97%85%E6%AF%92-82283956.jpg', 'http://thumbs.dreamstime.com/b/coronavirus%EF%BC%8C%E5%AF%BC-sars%E5%92%8Cmers%E7%9A%84%E7%97%85%E6%AF%92-82284361.jpg']\n",
      "['http://www.startstemcells.com/img/02_Alzheimer%281%29.gif', 'http://hellorfimg.zcool.cn/preview/79869424.jpg']\n",
      "['http://www.startstemcells.com/img/02_Alzheimer%281%29.gif', 'http://hellorfimg.zcool.cn/preview/79869424.jpg']\n",
      "['http://qqpublic.qpic.cn/qq_public/0/0-2504967202-25A553D369EE8F1A8B5A127AA17735FB/0?fmt=jpg&size=85&h=564&w=640&ppv=1.jpg', 'http://n.sinaimg.cn/sinakd202051s/717/w593h924/20200501/344f-isyparf7792545.bmp']\n",
      "['http://qqpublic.qpic.cn/qq_public/0/0-2504967202-25A553D369EE8F1A8B5A127AA17735FB/0?fmt=jpg&size=85&h=564&w=640&ppv=1.jpg', 'http://n.sinaimg.cn/sinakd202051s/717/w593h924/20200501/344f-isyparf7792545.bmp']\n",
      "['http://thumbs.dreamstime.com/b/coronavirus%EF%BC%8C%E5%AF%BC-sars%E5%92%8Cmers%E7%9A%84%E7%97%85%E6%AF%92-82283956.jpg', 'http://thumbs.dreamstime.com/b/coronavirus%EF%BC%8C%E5%AF%BC-sars%E5%92%8Cmers%E7%9A%84%E7%97%85%E6%AF%92-82284361.jpg']\n",
      "['http://thumbs.dreamstime.com/b/coronavirus%EF%BC%8C%E5%AF%BC-sars%E5%92%8Cmers%E7%9A%84%E7%97%85%E6%AF%92-82283956.jpg', 'http://thumbs.dreamstime.com/b/coronavirus%EF%BC%8C%E5%AF%BC-sars%E5%92%8Cmers%E7%9A%84%E7%97%85%E6%AF%92-82284361.jpg']\n",
      "['http://thumbs.dreamstime.com/z/sars-41759492.jpg', 'http://www.adwzw.com/uploadfile/2018/0611/20180611080541387.jpg']\n",
      "['http://thumbs.dreamstime.com/z/sars-41759492.jpg', 'http://www.adwzw.com/uploadfile/2018/0611/20180611080541387.jpg']\n",
      "['http://cache1.bioon.com/webeditor/uploadfile/202002/20200201180639684.png', 'http://cache1.bioon.com/webeditor/uploadfile/202003/20200308124747637.png']\n",
      "['http://cache1.bioon.com/webeditor/uploadfile/202002/20200201180639684.png', 'http://cache1.bioon.com/webeditor/uploadfile/202003/20200308124747637.png']\n",
      "['http://www.t-chs.com/tuhsJDEwLmFsaWNkbi5jb20vaTQvMzgzMTU2OTc0Ny9PMUNOMDFUS2w4dEsyTHNBd1E4cG9PNV8hITM4MzE1Njk3NDckOQ.jpg', 'http://www.tobaccochina.com/uploadfiles/pic/20150511172552944A.jpg']\n",
      "['http://www.t-chs.com/tuhsJDEwLmFsaWNkbi5jb20vaTQvMzgzMTU2OTc0Ny9PMUNOMDFUS2w4dEsyTHNBd1E4cG9PNV8hITM4MzE1Njk3NDckOQ.jpg', 'http://www.tobaccochina.com/uploadfiles/pic/20150511172552944A.jpg']\n"
     ]
    }
   ],
   "source": [
    "import re\n",
    "import requests\n",
    "import urllib\n",
    "from bs4 import BeautifulSoup\n",
    "from urllib.parse import urlparse\n",
    "import os\n",
    "my_set={}\n",
    "def download_baidu(keyword): \n",
    "    url = 'https://image.baidu.com/search/flip?tn=baiduimage&ie=utf-8&word='+word+'&ct=201326592&v=flip'\n",
    "    result = requests.get(url)\n",
    "    html = result.text\n",
    "    \n",
    "    pic_urls = re.findall('\"objURL\":\"(.*?)\",',html,re.S)\n",
    "    pic_url=[]\n",
    "    for j in range(0,2):\n",
    "        pic_url.append(pic_urls[j])\n",
    "\n",
    "    my_set.update({keyword:pic_url})\n",
    "    i=0\n",
    "    for each in pic_url:\n",
    "        print(pic_url)\n",
    "        try:\n",
    "            pic= requests.get(each, timeout=10)\n",
    "        except requests.exceptions.ConnectionError:\n",
    "            print ('exception')\n",
    "            continue\n",
    "  \n",
    "        string = 'C:\\\\Users\\\\USER\\\\Desktop\\\\downloads\\\\'+keyword+str(i) + '.jpg'\n",
    "        fp = open(string,'wb')\n",
    "        fp.write(pic.content)\n",
    "        fp.close()\n",
    "        i += 1\n",
    "if __name__ == '__main__':\n",
    "    k=0\n",
    "    while k < len(selected_words):\n",
    "        word = str(selected_words[k])\n",
    "        download_baidu(word)\n",
    "        k+=1"
   ]
  },
  {
   "cell_type": "code",
   "execution_count": 12,
   "metadata": {},
   "outputs": [
    {
     "data": {
      "text/plain": [
       "{'Wuhan': ['http://pics4.baidu.com/feed/0b55b319ebc4b7452b2654c2eee680118b821550.jpeg?token=d4f02b0105ba284c92d528663890d289',\n",
       "  'http://dpic.tiankong.com/ie/jx/QJ6554613578.jpg'],\n",
       " 'China': ['http://inews.gtimg.com/newsapp_bt/0/11358276386/641.jpg',\n",
       "  'http://vic.sina.com.cn/res/2012/0626/U6961P647DT20120626235640.jpg'],\n",
       " 'December': ['http://b-ssl.duitang.com/uploads/item/201512/09/20151209075049_5LKB3.jpeg',\n",
       "  'http://b-ssl.duitang.com/uploads/item/201412/01/20141201214740_4jLCN.jpeg'],\n",
       " 'coronavirus': ['http://thumbs.dreamstime.com/b/coronavirus%EF%BC%8C%E5%AF%BC-sars%E5%92%8Cmers%E7%9A%84%E7%97%85%E6%AF%92-82283956.jpg',\n",
       "  'http://thumbs.dreamstime.com/b/coronavirus%EF%BC%8C%E5%AF%BC-sars%E5%92%8Cmers%E7%9A%84%E7%97%85%E6%AF%92-82284361.jpg'],\n",
       " 'disease': ['http://www.startstemcells.com/img/02_Alzheimer%281%29.gif',\n",
       "  'http://hellorfimg.zcool.cn/preview/79869424.jpg'],\n",
       " 'COVID-19': ['http://qqpublic.qpic.cn/qq_public/0/0-2504967202-25A553D369EE8F1A8B5A127AA17735FB/0?fmt=jpg&size=85&h=564&w=640&ppv=1.jpg',\n",
       "  'http://n.sinaimg.cn/sinakd202051s/717/w593h924/20200501/344f-isyparf7792545.bmp'],\n",
       " 'SARS': ['http://thumbs.dreamstime.com/z/sars-41759492.jpg',\n",
       "  'http://www.adwzw.com/uploadfile/2018/0611/20180611080541387.jpg'],\n",
       " 'CoV-2': ['http://cache1.bioon.com/webeditor/uploadfile/202002/20200201180639684.png',\n",
       "  'http://cache1.bioon.com/webeditor/uploadfile/202003/20200308124747637.png'],\n",
       " 'respiratory': ['http://www.t-chs.com/tuhsJDEwLmFsaWNkbi5jb20vaTQvMzgzMTU2OTc0Ny9PMUNOMDFUS2w4dEsyTHNBd1E4cG9PNV8hITM4MzE1Njk3NDckOQ.jpg',\n",
       "  'http://www.tobaccochina.com/uploadfiles/pic/20150511172552944A.jpg']}"
      ]
     },
     "execution_count": 12,
     "metadata": {},
     "output_type": "execute_result"
    }
   ],
   "source": [
    "my_set"
   ]
  },
  {
   "cell_type": "code",
   "execution_count": 13,
   "metadata": {},
   "outputs": [],
   "source": [
    "all_paths=list(my_set.values())\n",
    "flat_list=[]"
   ]
  },
  {
   "cell_type": "code",
   "execution_count": 14,
   "metadata": {},
   "outputs": [],
   "source": [
    "for sublist in all_paths:\n",
    "    for item in sublist:\n",
    "        flat_list.append(item)"
   ]
  },
  {
   "cell_type": "code",
   "execution_count": 15,
   "metadata": {},
   "outputs": [
    {
     "data": {
      "text/plain": [
       "['http://pics4.baidu.com/feed/0b55b319ebc4b7452b2654c2eee680118b821550.jpeg?token=d4f02b0105ba284c92d528663890d289',\n",
       " 'http://dpic.tiankong.com/ie/jx/QJ6554613578.jpg',\n",
       " 'http://inews.gtimg.com/newsapp_bt/0/11358276386/641.jpg',\n",
       " 'http://vic.sina.com.cn/res/2012/0626/U6961P647DT20120626235640.jpg',\n",
       " 'http://b-ssl.duitang.com/uploads/item/201512/09/20151209075049_5LKB3.jpeg',\n",
       " 'http://b-ssl.duitang.com/uploads/item/201412/01/20141201214740_4jLCN.jpeg',\n",
       " 'http://thumbs.dreamstime.com/b/coronavirus%EF%BC%8C%E5%AF%BC-sars%E5%92%8Cmers%E7%9A%84%E7%97%85%E6%AF%92-82283956.jpg',\n",
       " 'http://thumbs.dreamstime.com/b/coronavirus%EF%BC%8C%E5%AF%BC-sars%E5%92%8Cmers%E7%9A%84%E7%97%85%E6%AF%92-82284361.jpg',\n",
       " 'http://www.startstemcells.com/img/02_Alzheimer%281%29.gif',\n",
       " 'http://hellorfimg.zcool.cn/preview/79869424.jpg',\n",
       " 'http://qqpublic.qpic.cn/qq_public/0/0-2504967202-25A553D369EE8F1A8B5A127AA17735FB/0?fmt=jpg&size=85&h=564&w=640&ppv=1.jpg',\n",
       " 'http://n.sinaimg.cn/sinakd202051s/717/w593h924/20200501/344f-isyparf7792545.bmp',\n",
       " 'http://thumbs.dreamstime.com/z/sars-41759492.jpg',\n",
       " 'http://www.adwzw.com/uploadfile/2018/0611/20180611080541387.jpg',\n",
       " 'http://cache1.bioon.com/webeditor/uploadfile/202002/20200201180639684.png',\n",
       " 'http://cache1.bioon.com/webeditor/uploadfile/202003/20200308124747637.png',\n",
       " 'http://www.t-chs.com/tuhsJDEwLmFsaWNkbi5jb20vaTQvMzgzMTU2OTc0Ny9PMUNOMDFUS2w4dEsyTHNBd1E4cG9PNV8hITM4MzE1Njk3NDckOQ.jpg',\n",
       " 'http://www.tobaccochina.com/uploadfiles/pic/20150511172552944A.jpg']"
      ]
     },
     "execution_count": 15,
     "metadata": {},
     "output_type": "execute_result"
    }
   ],
   "source": [
    "flat_list"
   ]
  },
  {
   "cell_type": "code",
   "execution_count": 16,
   "metadata": {},
   "outputs": [
    {
     "data": {
      "text/plain": [
       "['http://cache1.bioon.com/webeditor/uploadfile/202002/20200201180639684.png',\n",
       " 'http://cache1.bioon.com/webeditor/uploadfile/202003/20200308124747637.png']"
      ]
     },
     "execution_count": 16,
     "metadata": {},
     "output_type": "execute_result"
    }
   ],
   "source": [
    "sub1 = '.png'\n",
    "impng=[]\n",
    "for text in flat_list:\n",
    "    if sub1 in text:\n",
    "        impng.append(text)\n",
    "impng\n"
   ]
  },
  {
   "cell_type": "code",
   "execution_count": 17,
   "metadata": {},
   "outputs": [
    {
     "data": {
      "text/plain": [
       "['http://dpic.tiankong.com/ie/jx/QJ6554613578.jpg',\n",
       " 'http://inews.gtimg.com/newsapp_bt/0/11358276386/641.jpg',\n",
       " 'http://vic.sina.com.cn/res/2012/0626/U6961P647DT20120626235640.jpg',\n",
       " 'http://thumbs.dreamstime.com/b/coronavirus%EF%BC%8C%E5%AF%BC-sars%E5%92%8Cmers%E7%9A%84%E7%97%85%E6%AF%92-82283956.jpg',\n",
       " 'http://thumbs.dreamstime.com/b/coronavirus%EF%BC%8C%E5%AF%BC-sars%E5%92%8Cmers%E7%9A%84%E7%97%85%E6%AF%92-82284361.jpg',\n",
       " 'http://hellorfimg.zcool.cn/preview/79869424.jpg',\n",
       " 'http://qqpublic.qpic.cn/qq_public/0/0-2504967202-25A553D369EE8F1A8B5A127AA17735FB/0?fmt=jpg&size=85&h=564&w=640&ppv=1.jpg',\n",
       " 'http://thumbs.dreamstime.com/z/sars-41759492.jpg',\n",
       " 'http://www.adwzw.com/uploadfile/2018/0611/20180611080541387.jpg',\n",
       " 'http://www.t-chs.com/tuhsJDEwLmFsaWNkbi5jb20vaTQvMzgzMTU2OTc0Ny9PMUNOMDFUS2w4dEsyTHNBd1E4cG9PNV8hITM4MzE1Njk3NDckOQ.jpg',\n",
       " 'http://www.tobaccochina.com/uploadfiles/pic/20150511172552944A.jpg']"
      ]
     },
     "execution_count": 17,
     "metadata": {},
     "output_type": "execute_result"
    }
   ],
   "source": [
    "sub2 = '.jpg'\n",
    "imjpg=[]\n",
    "for text in flat_list:\n",
    "    if sub2 in text:\n",
    "        imjpg.append(text)\n",
    "imjpg\n"
   ]
  },
  {
   "cell_type": "code",
   "execution_count": 18,
   "metadata": {},
   "outputs": [
    {
     "data": {
      "text/plain": [
       "['http://pics4.baidu.com/feed/0b55b319ebc4b7452b2654c2eee680118b821550.jpeg?token=d4f02b0105ba284c92d528663890d289',\n",
       " 'http://b-ssl.duitang.com/uploads/item/201512/09/20151209075049_5LKB3.jpeg',\n",
       " 'http://b-ssl.duitang.com/uploads/item/201412/01/20141201214740_4jLCN.jpeg']"
      ]
     },
     "execution_count": 18,
     "metadata": {},
     "output_type": "execute_result"
    }
   ],
   "source": [
    "sub3 = '.jpeg'\n",
    "imjpeg=[]\n",
    "for text in flat_list:\n",
    "    if sub3 in text:\n",
    "        imjpeg.append(text)\n",
    "imjpeg"
   ]
  },
  {
   "cell_type": "code",
   "execution_count": 19,
   "metadata": {},
   "outputs": [
    {
     "data": {
      "text/plain": [
       "16"
      ]
     },
     "execution_count": 19,
     "metadata": {},
     "output_type": "execute_result"
    }
   ],
   "source": [
    "flat_list=impng+imjpg+imjpeg\n",
    "len(flat_list)"
   ]
  },
  {
   "cell_type": "code",
   "execution_count": 20,
   "metadata": {},
   "outputs": [],
   "source": [
    "import glob\n",
    "import shutil\n",
    "import os\n",
    "no=[] \n",
    "src_dir = \"C:\\\\Users\\\\USER\\\\Desktop\\\\downloads\\\\\"\n",
    "dst_dir = \"C:\\\\Users\\\\USER\\\\Desktop\\\\images\\\\\"\n",
    "for jpgfile in glob.iglob(os.path.join(src_dir, \"*.jpg\")):\n",
    "    shutil.copy(jpgfile, dst_dir)\n",
    "for jpgfile in glob.iglob(os.path.join(dst_dir, \"*.jpg\")):\n",
    "    no.append('%s' %(jpgfile))\n"
   ]
  },
  {
   "cell_type": "code",
   "execution_count": 21,
   "metadata": {},
   "outputs": [
    {
     "data": {
      "text/plain": [
       "['C:\\\\Users\\\\USER\\\\Desktop\\\\images\\\\China0.jpg',\n",
       " 'C:\\\\Users\\\\USER\\\\Desktop\\\\images\\\\China1.jpg',\n",
       " 'C:\\\\Users\\\\USER\\\\Desktop\\\\images\\\\coronavirus0.jpg',\n",
       " 'C:\\\\Users\\\\USER\\\\Desktop\\\\images\\\\coronavirus1.jpg',\n",
       " 'C:\\\\Users\\\\USER\\\\Desktop\\\\images\\\\CoV-20.jpg',\n",
       " 'C:\\\\Users\\\\USER\\\\Desktop\\\\images\\\\CoV-21.jpg',\n",
       " 'C:\\\\Users\\\\USER\\\\Desktop\\\\images\\\\COVID-190.jpg',\n",
       " 'C:\\\\Users\\\\USER\\\\Desktop\\\\images\\\\COVID-191.jpg',\n",
       " 'C:\\\\Users\\\\USER\\\\Desktop\\\\images\\\\December0.jpg',\n",
       " 'C:\\\\Users\\\\USER\\\\Desktop\\\\images\\\\disease0.jpg',\n",
       " 'C:\\\\Users\\\\USER\\\\Desktop\\\\images\\\\disease1.jpg',\n",
       " 'C:\\\\Users\\\\USER\\\\Desktop\\\\images\\\\respiratory0.jpg',\n",
       " 'C:\\\\Users\\\\USER\\\\Desktop\\\\images\\\\respiratory1.jpg',\n",
       " 'C:\\\\Users\\\\USER\\\\Desktop\\\\images\\\\SARS0.jpg',\n",
       " 'C:\\\\Users\\\\USER\\\\Desktop\\\\images\\\\SARS1.jpg',\n",
       " 'C:\\\\Users\\\\USER\\\\Desktop\\\\images\\\\Wuhan0.jpg',\n",
       " 'C:\\\\Users\\\\USER\\\\Desktop\\\\images\\\\Wuhan1.jpg']"
      ]
     },
     "execution_count": 21,
     "metadata": {},
     "output_type": "execute_result"
    }
   ],
   "source": [
    "no"
   ]
  },
  {
   "cell_type": "code",
   "execution_count": 22,
   "metadata": {},
   "outputs": [],
   "source": [
    "from PIL import Image\n",
    "i=0\n",
    "l=len(flat_list)\n",
    "\n",
    "try:\n",
    "    while i < l:\n",
    "        Image.open(flat_list[i]).convert('RGB')\n",
    "        print(flat_list[i])\n",
    "        i=i+1\n",
    "    \n",
    "except:\n",
    "    pass"
   ]
  },
  {
   "cell_type": "code",
   "execution_count": 26,
   "metadata": {},
   "outputs": [],
   "source": [
    "try:\n",
    "    i=0\n",
    "    while i < l:\n",
    "        Image.open(flat_list[i]).convert('RGB').save(no[i])\n",
    "        print(flat_list[i])\n",
    "\n",
    "        i+=1\n",
    "except:\n",
    "    pass"
   ]
  },
  {
   "cell_type": "code",
   "execution_count": 35,
   "metadata": {},
   "outputs": [],
   "source": [
    "def make_video(images, outimg=None, fps=2, size=None,\n",
    "               is_color=True, format=\"XVID\"):\n",
    "\n",
    "    from cv2 import VideoWriter, VideoWriter_fourcc, imread, resize\n",
    "    fourcc = VideoWriter_fourcc(*format)\n",
    "    vid = None\n",
    "    for image in images:\n",
    "        if not os.path.exists(image):\n",
    "            raise FileNotFoundError(image)\n",
    "        img = imread(image)\n",
    "        if img is None:\n",
    "            continue\n",
    "        if vid is None:\n",
    "            if size is None:\n",
    "                size = img.shape[1], img.shape[0]\n",
    "            vid = VideoWriter('vid.mp4', fourcc, float(fps), size, is_color)\n",
    "        if size[0] != img.shape[1] and size[1] != img.shape[0]:\n",
    "            img = resize(img, size)\n",
    "        vid.write(img)\n",
    "    vid.release()\n",
    "    return vid"
   ]
  },
  {
   "cell_type": "code",
   "execution_count": 36,
   "metadata": {},
   "outputs": [
    {
     "data": {
      "text/plain": [
       "<VideoWriter 000001EBDE313B50>"
      ]
     },
     "execution_count": 36,
     "metadata": {},
     "output_type": "execute_result"
    }
   ],
   "source": [
    "make_video(no, outimg=None, fps=2, size=None,is_color=True, format=\"XVID\")"
   ]
  },
  {
   "cell_type": "code",
   "execution_count": 37,
   "metadata": {},
   "outputs": [],
   "source": [
    "import moviepy\n",
    "import moviepy.editor as mp"
   ]
  },
  {
   "cell_type": "code",
   "execution_count": 38,
   "metadata": {},
   "outputs": [
    {
     "name": "stderr",
     "output_type": "stream",
     "text": [
      "chunk:   7%|▋         | 28/429 [00:00<00:01, 202.44it/s, now=None]"
     ]
    },
    {
     "name": "stdout",
     "output_type": "stream",
     "text": [
      "Moviepy - Building video output.mp4.\n",
      "MoviePy - Writing audio in outputTEMP_MPY_wvf_snd.mp3\n"
     ]
    },
    {
     "name": "stderr",
     "output_type": "stream",
     "text": [
      "                                                                   \r"
     ]
    },
    {
     "name": "stdout",
     "output_type": "stream",
     "text": [
      "MoviePy - Done.\n",
      "Moviepy - Writing video output.mp4\n",
      "\n",
      "Moviepy - Done !\n",
      "Moviepy - video ready output.mp4\n"
     ]
    }
   ],
   "source": [
    "if sound_type == \"neu\":\n",
    "    audio = mp.AudioFileClip(\"neu_sound.mp3\")\n",
    "    video1 = mp.VideoFileClip(\"vid.mp4\")\n",
    "    final = mp.concatenate_videoclips([video1]).set_audio(audio)\n",
    "    final.write_videofile(\"output.mp4\")"
   ]
  },
  {
   "cell_type": "code",
   "execution_count": null,
   "metadata": {},
   "outputs": [],
   "source": []
  }
 ],
 "metadata": {
  "kernelspec": {
   "display_name": "Python 3",
   "language": "python",
   "name": "python3"
  },
  "language_info": {
   "codemirror_mode": {
    "name": "ipython",
    "version": 3
   },
   "file_extension": ".py",
   "mimetype": "text/x-python",
   "name": "python",
   "nbconvert_exporter": "python",
   "pygments_lexer": "ipython3",
   "version": "3.7.4"
  }
 },
 "nbformat": 4,
 "nbformat_minor": 2
}
